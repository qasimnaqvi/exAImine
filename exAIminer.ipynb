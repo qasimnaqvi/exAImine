{
  "nbformat": 4,
  "nbformat_minor": 0,
  "metadata": {
    "colab": {
      "provenance": []
    },
    "kernelspec": {
      "name": "python3",
      "display_name": "Python 3"
    },
    "language_info": {
      "name": "python"
    }
  },
  "cells": [
    {
      "cell_type": "code",
      "execution_count": null,
      "metadata": {
        "colab": {
          "base_uri": "https://localhost:8080/"
        },
        "id": "nSivOlepUnl7",
        "outputId": "eda97842-c241-4f98-82b2-970436542d51"
      },
      "outputs": [
        {
          "output_type": "stream",
          "name": "stdout",
          "text": [
            "Welcome to the Math Question App!\n",
            "1. What is 2 + 2? Enter your answer: 5\n",
            "Oops! That's incorrect. The sum of 2 and 2 is 4. You might want to read '[Book Name ABC, Page #44] This will help you better understand why this is true.' to improve.\n"
          ]
        }
      ],
      "source": [
        "class MathQuestionApp:\n",
        "    def __init__(self):\n",
        "        self.questions = [\n",
        "            {\"question\": \"2 + 2\", \"answer\": 4, \"explanation\": \"The sum of 2 and 2 is 4.\"},\n",
        "            {\"question\": \"5 - 3\", \"answer\": 2, \"explanation\": \"Subtracting 3 from 5 gives the result 2.\"},\n",
        "            {\"question\": \"4 * 6\", \"answer\": 24, \"explanation\": \"Multiplying 4 by 6 results in 24.\"},\n",
        "            {\"question\": \"10 / 2\", \"answer\": 5, \"explanation\": \"Dividing 10 by 2 equals 5.\"},\n",
        "        ]\n",
        "        self.learning_resource = \"[Book Name ABC, Page #44] This will help you better understand why this is true.\"\n",
        "\n",
        "    def ask_questions(self):\n",
        "        for i, q in enumerate(self.questions, start=1):\n",
        "            user_answer = input(f\"{i}. What is {q['question']}? Enter your answer: \")\n",
        "            try:\n",
        "                user_answer = float(user_answer)\n",
        "                if user_answer == q['answer']:\n",
        "                    print(\"Correct! Good job.\")\n",
        "                else:\n",
        "                    print(f\"Oops! That's incorrect. {q['explanation']} You might want to read '{self.learning_resource}' to improve.\")\n",
        "            except ValueError:\n",
        "                print(\"Invalid input. Please enter a valid number.\")\n",
        "\n",
        "    def run(self):\n",
        "        print(\"Welcome to the Math Question App!\")\n",
        "\n",
        "        self.ask_questions()\n",
        "\n",
        "        print(\"Thanks for using the Math Question App. Goodbye!\")\n",
        "\n",
        "\n",
        "if __name__ == \"__main__\":\n",
        "    math_app = MathQuestionApp()\n",
        "    math_app.run()\n"
      ]
    }
  ]
}